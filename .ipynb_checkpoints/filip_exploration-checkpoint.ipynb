{
 "cells": [
  {
   "cell_type": "code",
   "execution_count": 1,
   "id": "18e99509",
   "metadata": {},
   "outputs": [
    {
     "name": "stdout",
     "output_type": "stream",
     "text": [
      "460111\n"
     ]
    }
   ],
   "source": [
    "import json\n",
    "\n",
    "# https://public.opendatasoft.com/explore/dataset/europe-road/export/?refine.icc=BE\n",
    "MAP_FILENAME = \"europe-road.geojson\"\n",
    "\n",
    "with open(MAP_FILENAME, \"r\") as map_file:\n",
    "    road_map = json.load(map_file)\n",
    "\n",
    "roads = road_map[\"features\"]\n",
    "for r in roads:\n",
    "    r[\"properties\"] = {}\n",
    "print(len(roads))"
   ]
  },
  {
   "cell_type": "code",
   "execution_count": 90,
   "id": "c8d5764e",
   "metadata": {},
   "outputs": [],
   "source": [
    "import geojsonio\n",
    "\n",
    "def prepare_geojson(subset):\n",
    "    # Prepare empty geojson\n",
    "    geojson = {\"type\": road_map[\"type\"], \"features\": []}\n",
    "    for i in subset:\n",
    "        road_segment = road_map[\"features\"][i]\n",
    "        road_segment[\"properties\"] = {}\n",
    "        geojson[\"features\"].append(road_segment)\n",
    "    return geojson\n",
    "    \n",
    "def display_geojson_subset(subset):\n",
    "    \"\"\"Displays the subset of roads (given by the indicies).\"\"\"\n",
    "    geojsonio.display(json.dumps(prepare_geojson(subset)))\n",
    "\n",
    "def dump_geojson_to_file(subset, filename):\n",
    "    with open(filename, \"w\") as f:\n",
    "        json.dump(prepare_geojson(subset), f)"
   ]
  },
  {
   "cell_type": "code",
   "execution_count": 38,
   "id": "2b465671",
   "metadata": {},
   "outputs": [],
   "source": [
    "display_geojson_subset([10000])"
   ]
  },
  {
   "cell_type": "code",
   "execution_count": 34,
   "id": "f2b771d9",
   "metadata": {},
   "outputs": [
    {
     "name": "stderr",
     "output_type": "stream",
     "text": [
      "100%|███████████████████████████████████████████████████████████████████████████████████████████████████████████████████████████████████████████████████████████████████████████████████████████████| 460111/460111 [05:32<00:00, 1381.77it/s]\n"
     ]
    }
   ],
   "source": [
    "def normalize_point(p):\n",
    "    \"\"\"\n",
    "    Since coordinates are written as floating point numbers in the geojson\n",
    "    we normalize them so that we can easily use the coordinates as indices.\n",
    "    \"\"\"\n",
    "    def normalize_coordinate(x):\n",
    "        return round(x * 1e6)\n",
    "    return normalize_coordinate(p[0]), normalize_coordinate(p[1])\n",
    "\n",
    "import geopy.distance\n",
    "def road_len(r):\n",
    "    coordinates = r[\"geometry\"][\"coordinates\"]\n",
    "    ans = 0\n",
    "    for i in range(len(coordinates) - 1):\n",
    "        ans += geopy.distance.geodesic(coordinates[i][::-1], coordinates[i + 1][::-1]).km\n",
    "    return ans\n",
    "\n",
    "# We represent the graph as an adjacency list.\n",
    "# For each vertex, we store a list of its neighbors with their lengths.\n",
    "\n",
    "from tqdm import tqdm\n",
    "\n",
    "def prepare_graph(roads):\n",
    "    graph = {}\n",
    "    for i in tqdm(range(len(roads))):\n",
    "        r = roads[i]\n",
    "        l = road_len(r)\n",
    "        a = normalize_point(r[\"geometry\"][\"coordinates\"][0])\n",
    "        b = normalize_point(r[\"geometry\"][\"coordinates\"][-1])\n",
    "        \n",
    "        if a not in graph:\n",
    "            graph[a] = []\n",
    "        graph[a].append((b, l, i))\n",
    "        \n",
    "        if b not in graph:\n",
    "            graph[b] = []\n",
    "        graph[b].append((a, l, i))\n",
    "    return graph\n",
    "        \n",
    "graph = prepare_graph(roads)"
   ]
  },
  {
   "cell_type": "code",
   "execution_count": 35,
   "id": "f5432e67",
   "metadata": {},
   "outputs": [
    {
     "data": {
      "text/plain": [
       "384335"
      ]
     },
     "execution_count": 35,
     "metadata": {},
     "output_type": "execute_result"
    }
   ],
   "source": [
    "len(graph)"
   ]
  },
  {
   "cell_type": "code",
   "execution_count": 44,
   "id": "ac4eeff7",
   "metadata": {},
   "outputs": [],
   "source": [
    "def random_walk(start, steps):\n",
    "    prev = None\n",
    "    cur = start\n",
    "    subset = []\n",
    "    for i in range(steps):\n",
    "        for neighbor, edge_len, edge_index in graph[cur]:\n",
    "            if neighbor != prev:\n",
    "                prev = cur\n",
    "                cur = neighbor\n",
    "                subset.append(edge_index)\n",
    "                break\n",
    "    return subset"
   ]
  },
  {
   "cell_type": "code",
   "execution_count": 45,
   "id": "d2758d97",
   "metadata": {},
   "outputs": [],
   "source": [
    "display_geojson_subset(random_walk(list(graph.keys())[0], 100))"
   ]
  },
  {
   "cell_type": "code",
   "execution_count": 124,
   "id": "7cf6b316",
   "metadata": {},
   "outputs": [],
   "source": [
    "from queue import PriorityQueue\n",
    "\n",
    "def vertex_distance(a, b):\n",
    "    return geopy.distance.geodesic((a[1] / 1e6, a[0] / 1e6), (b[1] / 1e6, b[0] / 1e6)).km\n",
    "\n",
    "from scipy.spatial import ConvexHull\n",
    "\n",
    "def dijkstra(start, goal):\n",
    "    visited = set()\n",
    "    queue = PriorityQueue()\n",
    "    queue.put((0, 0, start))\n",
    "    best_dist = {start: 0}\n",
    "    prev_vertex = {}\n",
    "    \n",
    "    while not queue.empty():\n",
    "        heuristic, distance, vertex = queue.get()\n",
    "        if vertex in visited:\n",
    "            continue\n",
    "        visited.add(vertex)\n",
    "        \n",
    "        if vertex == goal:\n",
    "            subset = []\n",
    "            while vertex != start:\n",
    "                subset.append(prev_vertex[vertex][1])\n",
    "                vertex = prev_vertex[vertex][0]\n",
    "            \n",
    "            coordinates = []\n",
    "            print(\"Visited: \", len(visited))\n",
    "            for v in visited:\n",
    "                coordinates.append((v[0] / 1e6, v[1] / 1e6))\n",
    "                \n",
    "            hull = list(ConvexHull(coordinates).vertices)\n",
    "            hull.append(hull[0])\n",
    "            \n",
    "            hull_points = []\n",
    "            for i in hull:\n",
    "                hull_points.append(coordinates[i])\n",
    "    \n",
    "            geojson = {\n",
    "                \"type\": \"FeatureCollection\",\n",
    "                \"features\": [\n",
    "                    {\n",
    "                        \"type\": \"Feature\",\n",
    "                        \"properties\": {},\n",
    "                        \"geometry\": {\n",
    "                            \"type\": \"LineString\",\n",
    "                            \"coordinates\": hull_points\n",
    "                        }\n",
    "                    }\n",
    "                ]\n",
    "            }\n",
    "        \n",
    "            with open(\"visited.json\", \"w\") as f:\n",
    "                json.dump(geojson, f)\n",
    "\n",
    "            \n",
    "            return distance, subset\n",
    "        \n",
    "        for neighbor, edge_len, edge_index in graph[vertex]:\n",
    "            if neighbor in visited:\n",
    "                continue\n",
    "            new_distance = distance + edge_len\n",
    "            # A* heuristics\n",
    "            heuristic = new_distance + vertex_distance(neighbor, goal) \n",
    "            \n",
    "            if neighbor not in best_dist or best_dist[neighbor] > new_distance:\n",
    "                best_dist[neighbor] = new_distance\n",
    "                queue.put((heuristic, new_distance, neighbor))\n",
    "                # We could remove the original record the the queue but it\n",
    "                # is about the same amount of work if we just leave it there\n",
    "                # and discard it when it bubbles to the top (because the vertex\n",
    "                # is already going to be marked as \"visited at that point\").\n",
    "                prev_vertex[neighbor] = vertex, edge_index\n",
    "    \n",
    "    return None\n",
    "    "
   ]
  },
  {
   "cell_type": "code",
   "execution_count": 70,
   "id": "aba569fe",
   "metadata": {},
   "outputs": [
    {
     "name": "stdout",
     "output_type": "stream",
     "text": [
      "595.4863247323506\n",
      "247\n"
     ]
    }
   ],
   "source": [
    "start = list(graph.keys())[0]\n",
    "goal = list(graph.keys())[98765]\n",
    "\n",
    "distance, subset = dijkstra(start, goal)\n",
    "print(distance)\n",
    "print(len(subset))\n",
    "display_geojson_subset(subset[:300])"
   ]
  },
  {
   "cell_type": "code",
   "execution_count": 82,
   "id": "a414a562",
   "metadata": {},
   "outputs": [
    {
     "name": "stdout",
     "output_type": "stream",
     "text": [
      "Prague: (14407397, 50097452)\n",
      "Rome: (12498114, 41910903)\n"
     ]
    }
   ],
   "source": [
    "def find_vertex(coordinate):\n",
    "    \"\"\"Finds a vertex closest to the given coordinate.\"\"\"\n",
    "    vertices = list(graph.keys())\n",
    "    c = normalize_point(coordinate)\n",
    "    def dist(a, b): return abs(a[0] - b[0]) + abs(a[1] - b[1])\n",
    "    best = vertices[0]\n",
    "    best_dist = dist(best, c)\n",
    "    for v in vertices:\n",
    "        d = dist(v, c)\n",
    "        if d < best_dist:\n",
    "            best = v\n",
    "            best_dist = d\n",
    "    return best\n",
    "\n",
    "PRAGUE = find_vertex((14.412032, 50.086127))\n",
    "ROME = find_vertex((12.495298, 41.901819))\n",
    "print(\"Prague:\", PRAGUE)\n",
    "print(\"Rome:\", ROME)"
   ]
  },
  {
   "cell_type": "code",
   "execution_count": 125,
   "id": "f81f3137",
   "metadata": {},
   "outputs": [
    {
     "name": "stdout",
     "output_type": "stream",
     "text": [
      "Visited:  46657\n",
      "1212.6006549726649\n",
      "876\n"
     ]
    }
   ],
   "source": [
    "ans = dijkstra(PRAGUE, ROME)\n",
    "if ans is None:\n",
    "    print(\"No path found :-(\")\n",
    "else:\n",
    "    distance, subset = ans\n",
    "    print(distance)\n",
    "    print(len(subset))\n",
    "    dump_geojson_to_file(subset, \"out.json\")"
   ]
  },
  {
   "cell_type": "code",
   "execution_count": 78,
   "id": "523efec9",
   "metadata": {},
   "outputs": [],
   "source": [
    "display_geojson_subset(list(range(1, len(roads), 2000)))"
   ]
  },
  {
   "cell_type": "code",
   "execution_count": 80,
   "id": "21a61497",
   "metadata": {},
   "outputs": [
    {
     "name": "stderr",
     "output_type": "stream",
     "text": [
      "100%|███████████████████████████████████████████████████████████████████████████████████████████████████████████████████████████████████████████████████████████████████████████████████████████████| 460111/460111 [01:32<00:00, 4974.51it/s]\n"
     ]
    },
    {
     "name": "stdout",
     "output_type": "stream",
     "text": [
      "167\n"
     ]
    }
   ],
   "source": [
    "subset = []\n",
    "for i in tqdm(range(len(roads))):\n",
    "    r = roads[i]\n",
    "    c = r[\"geometry\"][\"coordinates\"][0]\n",
    "    distance_from_rome = geopy.distance.geodesic(c[::-1], (41.901819, 12.495298)).km\n",
    "    if distance_from_rome < 10:\n",
    "        subset.append(i)\n",
    "print(len(subset))\n",
    "display_geojson_subset(subset)"
   ]
  },
  {
   "cell_type": "code",
   "execution_count": 115,
   "id": "a9ec1105",
   "metadata": {},
   "outputs": [],
   "source": [
    "from scipy.spatial import ConvexHull\n",
    "import numpy"
   ]
  },
  {
   "cell_type": "code",
   "execution_count": 119,
   "id": "7b117070",
   "metadata": {},
   "outputs": [
    {
     "data": {
      "text/plain": [
       "[5, 0, 2, 3]"
      ]
     },
     "execution_count": 119,
     "metadata": {},
     "output_type": "execute_result"
    }
   ],
   "source": [
    "list(ConvexHull([(0, 1), (1, 1), (0, 0), (1, 0), (0.5, 0.5), (10, 10)]).vertices)"
   ]
  },
  {
   "cell_type": "code",
   "execution_count": null,
   "id": "5d622640",
   "metadata": {},
   "outputs": [],
   "source": []
  }
 ],
 "metadata": {
  "kernelspec": {
   "display_name": "Python 3",
   "language": "python",
   "name": "python3"
  },
  "language_info": {
   "codemirror_mode": {
    "name": "ipython",
    "version": 3
   },
   "file_extension": ".py",
   "mimetype": "text/x-python",
   "name": "python",
   "nbconvert_exporter": "python",
   "pygments_lexer": "ipython3",
   "version": "3.10.6"
  }
 },
 "nbformat": 4,
 "nbformat_minor": 5
}
